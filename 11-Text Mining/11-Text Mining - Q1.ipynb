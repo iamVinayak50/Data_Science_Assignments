{
 "cells": [
  {
   "cell_type": "markdown",
   "metadata": {},
   "source": [
    "**Import New Dataset**"
   ]
  },
  {
   "cell_type": "code",
   "execution_count": 1,
   "metadata": {
    "execution": {
     "iopub.execute_input": "2022-04-20T03:24:02.148413Z",
     "iopub.status.busy": "2022-04-20T03:24:02.148051Z",
     "iopub.status.idle": "2022-04-20T03:24:04.049656Z",
     "shell.execute_reply": "2022-04-20T03:24:04.048538Z",
     "shell.execute_reply.started": "2022-04-20T03:24:02.148316Z"
    }
   },
   "outputs": [],
   "source": [
    "#load the libraries\n",
    "import pandas as pd\n",
    "import numpy as np\n",
    "import seaborn as sns\n",
    "from matplotlib import pyplot as plt\n",
    "%matplotlib inline\n",
    "import re \n",
    "import nltk\n",
    "from nltk.corpus import stopwords\n",
    "from wordcloud import WordCloud,STOPWORDS\n",
    "import warnings\n",
    "warnings.filterwarnings('ignore')"
   ]
  },
  {
   "cell_type": "code",
   "execution_count": 2,
   "metadata": {
    "execution": {
     "iopub.execute_input": "2022-04-20T03:24:04.055709Z",
     "iopub.status.busy": "2022-04-20T03:24:04.055044Z",
     "iopub.status.idle": "2022-04-20T03:24:04.107948Z",
     "shell.execute_reply": "2022-04-20T03:24:04.107309Z",
     "shell.execute_reply.started": "2022-04-20T03:24:04.055655Z"
    }
   },
   "outputs": [],
   "source": [
    "raw_data = pd.read_csv(\"../input/data-science-assignments/TEXT MINING/Elon_musk.csv\",encoding='cp1252').drop('Unnamed: 0',axis=1)\n",
    "df = raw_data.copy()\n",
    "df #There are 1999 tweets"
   ]
  },
  {
   "cell_type": "code",
   "execution_count": 3,
   "metadata": {
    "execution": {
     "iopub.execute_input": "2022-04-20T03:24:04.109404Z",
     "iopub.status.busy": "2022-04-20T03:24:04.109054Z",
     "iopub.status.idle": "2022-04-20T03:24:04.131222Z",
     "shell.execute_reply": "2022-04-20T03:24:04.130311Z",
     "shell.execute_reply.started": "2022-04-20T03:24:04.109370Z"
    }
   },
   "outputs": [],
   "source": [
    "df.info() "
   ]
  },
  {
   "cell_type": "code",
   "execution_count": 4,
   "metadata": {
    "execution": {
     "iopub.execute_input": "2022-04-20T03:24:04.133148Z",
     "iopub.status.busy": "2022-04-20T03:24:04.132930Z",
     "iopub.status.idle": "2022-04-20T03:24:04.137719Z",
     "shell.execute_reply": "2022-04-20T03:24:04.137026Z",
     "shell.execute_reply.started": "2022-04-20T03:24:04.133122Z"
    }
   },
   "outputs": [],
   "source": [
    "df.Text = df.Text.astype(str)"
   ]
  },
  {
   "cell_type": "markdown",
   "metadata": {},
   "source": [
    "**Preprocessing data**"
   ]
  },
  {
   "cell_type": "markdown",
   "metadata": {},
   "source": [
    "We cannot remove stopwords because tweets mostly contain small words."
   ]
  },
  {
   "cell_type": "code",
   "execution_count": 5,
   "metadata": {
    "execution": {
     "iopub.execute_input": "2022-04-20T03:25:36.212736Z",
     "iopub.status.busy": "2022-04-20T03:25:36.211981Z",
     "iopub.status.idle": "2022-04-20T03:25:36.245629Z",
     "shell.execute_reply": "2022-04-20T03:25:36.244576Z",
     "shell.execute_reply.started": "2022-04-20T03:25:36.212693Z"
    }
   },
   "outputs": [],
   "source": [
    "# Clean The Data using RegEx\n",
    "#result = re.sub(pattern, repl, string, count=0, flags=0)\n",
    "\n",
    "def cleantext(text):\n",
    "    text = re.sub(r\"@[A-Za-z0-9]+\", \"\", text) # Remove Mentions\n",
    "    text = re.sub(r\"#\", \"\", text) # Remove Hashtags Symbol\n",
    "    text = re.sub(r\"RT[\\s]+\", \"\", text) # Remove Retweets\n",
    "    text = re.sub(r\"https?:\\/\\/\\S+\", \"\", text) # Remove The Hyper Link\n",
    "    text = re.sub(r\"_[A-Za-z0-9]\", \"\", text)#Removing underscores\n",
    "\n",
    "    \n",
    "    return text\n",
    "# Clean The Text\n",
    "df[\"Text\"] = df[\"Text\"].apply(cleantext)\n",
    "df.head()"
   ]
  },
  {
   "cell_type": "code",
   "execution_count": 6,
   "metadata": {
    "execution": {
     "iopub.execute_input": "2022-04-20T03:25:51.815926Z",
     "iopub.status.busy": "2022-04-20T03:25:51.815660Z",
     "iopub.status.idle": "2022-04-20T03:25:51.823916Z",
     "shell.execute_reply": "2022-04-20T03:25:51.823297Z",
     "shell.execute_reply.started": "2022-04-20T03:25:51.815899Z"
    }
   },
   "outputs": [],
   "source": [
    "df.tail()"
   ]
  },
  {
   "cell_type": "markdown",
   "metadata": {},
   "source": [
    "**Tweet Sentiment Values**"
   ]
  },
  {
   "cell_type": "code",
   "execution_count": 7,
   "metadata": {
    "execution": {
     "iopub.execute_input": "2022-04-20T03:26:47.578574Z",
     "iopub.status.busy": "2022-04-20T03:26:47.577921Z",
     "iopub.status.idle": "2022-04-20T03:26:47.613884Z",
     "shell.execute_reply": "2022-04-20T03:26:47.612836Z",
     "shell.execute_reply.started": "2022-04-20T03:26:47.578525Z"
    }
   },
   "outputs": [],
   "source": [
    "from nltk.sentiment.vader import SentimentIntensityAnalyzer\n",
    "sentialz = SentimentIntensityAnalyzer()"
   ]
  },
  {
   "cell_type": "code",
   "execution_count": 8,
   "metadata": {
    "execution": {
     "iopub.execute_input": "2022-04-20T03:26:58.016997Z",
     "iopub.status.busy": "2022-04-20T03:26:58.016725Z",
     "iopub.status.idle": "2022-04-20T03:26:58.024444Z",
     "shell.execute_reply": "2022-04-20T03:26:58.023534Z",
     "shell.execute_reply.started": "2022-04-20T03:26:58.016969Z"
    }
   },
   "outputs": [],
   "source": [
    "sentialz.polarity_scores(df.Text.iloc[2])"
   ]
  },
  {
   "cell_type": "code",
   "execution_count": 9,
   "metadata": {
    "execution": {
     "iopub.execute_input": "2022-04-20T03:27:13.968215Z",
     "iopub.status.busy": "2022-04-20T03:27:13.967704Z",
     "iopub.status.idle": "2022-04-20T03:27:13.974914Z",
     "shell.execute_reply": "2022-04-20T03:27:13.974281Z",
     "shell.execute_reply.started": "2022-04-20T03:27:13.968149Z"
    }
   },
   "outputs": [],
   "source": [
    "#Function to retrieve sentiment class\n",
    "def get_senti_class(review): \n",
    "    analysis = sentialz.polarity_scores(review)\n",
    "    # set sentiment \n",
    "    if analysis[\"compound\"] > 0: \n",
    "        return 'positive'\n",
    "    elif analysis[\"compound\"] < 0: \n",
    "        return 'negative'\n",
    "    else: \n",
    "        return 'neutral'\n",
    "    \n",
    "def get_sentiment(review):\n",
    "    return pd.Series([sentialz.polarity_scores(review),get_senti_class(review)])"
   ]
  },
  {
   "cell_type": "code",
   "execution_count": 10,
   "metadata": {
    "execution": {
     "iopub.execute_input": "2022-04-20T03:27:23.945580Z",
     "iopub.status.busy": "2022-04-20T03:27:23.945109Z",
     "iopub.status.idle": "2022-04-20T03:27:25.150107Z",
     "shell.execute_reply": "2022-04-20T03:27:25.149532Z",
     "shell.execute_reply.started": "2022-04-20T03:27:23.945526Z"
    }
   },
   "outputs": [],
   "source": [
    "#Applying function to all tweets\n",
    "df[[\"Scores\", \"Sentiment\"]] = df.Text.apply(get_sentiment)\n",
    "df"
   ]
  },
  {
   "cell_type": "code",
   "execution_count": 11,
   "metadata": {
    "execution": {
     "iopub.execute_input": "2022-04-20T03:27:42.808134Z",
     "iopub.status.busy": "2022-04-20T03:27:42.807697Z",
     "iopub.status.idle": "2022-04-20T03:27:42.816057Z",
     "shell.execute_reply": "2022-04-20T03:27:42.815553Z",
     "shell.execute_reply.started": "2022-04-20T03:27:42.808087Z"
    }
   },
   "outputs": [],
   "source": [
    "comp_values = [d.get('compound') for d in df.Scores]\n",
    "df.Sentiment.value_counts()"
   ]
  },
  {
   "cell_type": "code",
   "execution_count": 12,
   "metadata": {
    "execution": {
     "iopub.execute_input": "2022-04-20T03:27:57.628618Z",
     "iopub.status.busy": "2022-04-20T03:27:57.628135Z",
     "iopub.status.idle": "2022-04-20T03:27:57.782514Z",
     "shell.execute_reply": "2022-04-20T03:27:57.781629Z",
     "shell.execute_reply.started": "2022-04-20T03:27:57.628566Z"
    }
   },
   "outputs": [],
   "source": [
    "sns.countplot(df.Sentiment,palette='cool_r') #There are very less negative comments"
   ]
  },
  {
   "cell_type": "code",
   "execution_count": 13,
   "metadata": {
    "execution": {
     "iopub.execute_input": "2022-04-20T03:28:09.757231Z",
     "iopub.status.busy": "2022-04-20T03:28:09.756925Z",
     "iopub.status.idle": "2022-04-20T03:28:10.085912Z",
     "shell.execute_reply": "2022-04-20T03:28:10.084974Z",
     "shell.execute_reply.started": "2022-04-20T03:28:09.757184Z"
    }
   },
   "outputs": [],
   "source": [
    "sns.lineplot(data = comp_values, palette='cool_r') #Most are positive/Neutral tweets"
   ]
  },
  {
   "cell_type": "code",
   "execution_count": 14,
   "metadata": {
    "execution": {
     "iopub.execute_input": "2022-04-20T03:28:21.358105Z",
     "iopub.status.busy": "2022-04-20T03:28:21.357824Z",
     "iopub.status.idle": "2022-04-20T03:28:21.376552Z",
     "shell.execute_reply": "2022-04-20T03:28:21.375601Z",
     "shell.execute_reply.started": "2022-04-20T03:28:21.358076Z"
    }
   },
   "outputs": [],
   "source": [
    "df.loc[df.Sentiment=='negative']"
   ]
  },
  {
   "cell_type": "markdown",
   "metadata": {},
   "source": [
    "**Word Cloud**"
   ]
  },
  {
   "cell_type": "code",
   "execution_count": 21,
   "metadata": {
    "execution": {
     "iopub.execute_input": "2022-04-20T03:35:16.037012Z",
     "iopub.status.busy": "2022-04-20T03:35:16.036707Z",
     "iopub.status.idle": "2022-04-20T03:35:16.042876Z",
     "shell.execute_reply": "2022-04-20T03:35:16.042023Z",
     "shell.execute_reply.started": "2022-04-20T03:35:16.036982Z"
    }
   },
   "outputs": [],
   "source": [
    "tweet_str = ' '.join(df['Text'].tolist()) #Since tweets are filled with little words, we cant remove stopwords"
   ]
  },
  {
   "cell_type": "code",
   "execution_count": 22,
   "metadata": {
    "execution": {
     "iopub.execute_input": "2022-04-20T03:36:02.426896Z",
     "iopub.status.busy": "2022-04-20T03:36:02.425863Z",
     "iopub.status.idle": "2022-04-20T03:36:03.706234Z",
     "shell.execute_reply": "2022-04-20T03:36:03.705284Z",
     "shell.execute_reply.started": "2022-04-20T03:36:02.426843Z"
    }
   },
   "outputs": [],
   "source": [
    "#Creating a WordCloud\n",
    "from matplotlib.pyplot import figure\n",
    "font_path = '../input/metropolis/metropolis.regular.otf'\n",
    "wordcloud_ip = WordCloud(\n",
    "                      background_color=\"white\", max_words=500,font_path=font_path,\n",
    "               stopwords=STOPWORDS, max_font_size=200,\n",
    "               random_state=42).generate(tweet_str)\n",
    "figure(figsize=(2,3), dpi=300)\n",
    "plt.imshow(wordcloud_ip,interpolation=\"bilinear\")\n",
    "plt.axis(\"off\")\n",
    "plt.show()"
   ]
  },
  {
   "cell_type": "markdown",
   "metadata": {},
   "source": [
    "**Elon-Musk**"
   ]
  },
  {
   "cell_type": "code",
   "execution_count": 25,
   "metadata": {
    "execution": {
     "iopub.execute_input": "2022-04-20T03:43:10.975303Z",
     "iopub.status.busy": "2022-04-20T03:43:10.974830Z",
     "iopub.status.idle": "2022-04-20T03:43:13.213583Z",
     "shell.execute_reply": "2022-04-20T03:43:13.212776Z",
     "shell.execute_reply.started": "2022-04-20T03:43:10.975266Z"
    }
   },
   "outputs": [],
   "source": [
    "from PIL import Image\n",
    "maskArray = np.array(Image.open(\"../input/elonkd/elon.png\"))\n",
    "elon_mask = WordCloud(background_color='black',\n",
    "                      max_words = 60, \n",
    "                    stopwords = set(STOPWORDS),\n",
    "                    colormap='Purples_r',\n",
    "                    mask = maskArray,\n",
    "                    font_path=font_path).generate(tweet_str)\n",
    "\n",
    "figure(figsize=(3,4), dpi=300)\n",
    "plt.imshow(elon_mask,interpolation=\"bilinear\")\n",
    "plt.axis(\"off\")\n",
    "plt.show()"
   ]
  },
  {
   "cell_type": "code",
   "execution_count": null,
   "metadata": {},
   "outputs": [],
   "source": []
  }
 ],
 "metadata": {
  "kernelspec": {
   "display_name": "Python 3 (ipykernel)",
   "language": "python",
   "name": "python3"
  },
  "language_info": {
   "codemirror_mode": {
    "name": "ipython",
    "version": 3
   },
   "file_extension": ".py",
   "mimetype": "text/x-python",
   "name": "python",
   "nbconvert_exporter": "python",
   "pygments_lexer": "ipython3",
   "version": "3.9.7"
  }
 },
 "nbformat": 4,
 "nbformat_minor": 4
}
